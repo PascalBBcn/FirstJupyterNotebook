{
 "cells": [
  {
   "cell_type": "markdown",
   "id": "53fa7620-359d-4eed-88b4-82b9f521ba93",
   "metadata": {},
   "source": [
    "# Data Science Tools and Ecosystem"
   ]
  },
  {
   "cell_type": "markdown",
   "id": "734a5d45-6ede-490d-a6a1-416584ab4110",
   "metadata": {},
   "source": [
    "### In this notebook, Data Science Tools and Ecosystem are summarized."
   ]
  },
  {
   "cell_type": "markdown",
   "id": "1cd17a4b-e3a3-4679-a4d9-ea6d5e11bdae",
   "metadata": {
    "tags": []
   },
   "source": [
    "### __Objectives:__\n",
    "- List popular languages for Data Science\n",
    "- List popular libraries for Data Science\n",
    "- List DS tools"
   ]
  },
  {
   "cell_type": "markdown",
   "id": "22021508-c3e9-4353-91a7-95406e5c4a77",
   "metadata": {
    "tags": []
   },
   "source": [
    "### Some of the popular languages that Data Scientists use are:\n",
    "1. Python\n",
    "2. Javascript\n",
    "3. C++"
   ]
  },
  {
   "cell_type": "markdown",
   "id": "0173f9be-0a3c-4ff6-b390-6a6fefa95f84",
   "metadata": {},
   "source": [
    "### Some of the commonly used libraries used by Data Scientists include:\n",
    "1. Pandas\n",
    "2. NumPy\n",
    "3. SciPy"
   ]
  },
  {
   "cell_type": "markdown",
   "id": "1cb4e26a-ce52-44d5-b244-3a2496680569",
   "metadata": {
    "tags": []
   },
   "source": [
    "|Data Science Tools|\n",
    "|------------------|\n",
    "|VSCode|\n",
    "|Jupyter Notebooks|\n",
    "|Anaconda|"
   ]
  },
  {
   "cell_type": "markdown",
   "id": "72f734b3-c797-4872-9ab6-4c33a6137eb3",
   "metadata": {},
   "source": [
    "### Below are a few examples of evaluating arithmetic expressions in Python"
   ]
  },
  {
   "cell_type": "code",
   "execution_count": 5,
   "id": "b66e93b7-84d2-42ed-a5ac-9782e7204ca1",
   "metadata": {
    "tags": []
   },
   "outputs": [
    {
     "data": {
      "text/plain": [
       "17"
      ]
     },
     "execution_count": 5,
     "metadata": {},
     "output_type": "execute_result"
    }
   ],
   "source": [
    "# This a simple arithmetic expression to mutiply then add integers\n",
    "(3*4)+5"
   ]
  },
  {
   "cell_type": "code",
   "execution_count": 6,
   "id": "b24cc926-7e23-4a08-99af-bf9ac3cd513c",
   "metadata": {
    "tags": []
   },
   "outputs": [
    {
     "data": {
      "text/plain": [
       "3.3333333333333335"
      ]
     },
     "execution_count": 6,
     "metadata": {},
     "output_type": "execute_result"
    }
   ],
   "source": [
    "#This will convert 200 minutes to hours by diving by 60\n",
    "200/60"
   ]
  },
  {
   "cell_type": "markdown",
   "id": "3d0f5a20-244e-421f-95c8-4cfc814feb47",
   "metadata": {},
   "source": [
    "## Author\n",
    "Pascal\n"
   ]
  },
  {
   "cell_type": "code",
   "execution_count": null,
   "id": "b9e07254-8561-4b7a-b26e-9c104a84cbb4",
   "metadata": {},
   "outputs": [],
   "source": []
  }
 ],
 "metadata": {
  "kernelspec": {
   "display_name": "Python",
   "language": "python",
   "name": "conda-env-python-py"
  },
  "language_info": {
   "codemirror_mode": {
    "name": "ipython",
    "version": 3
   },
   "file_extension": ".py",
   "mimetype": "text/x-python",
   "name": "python",
   "nbconvert_exporter": "python",
   "pygments_lexer": "ipython3",
   "version": "3.7.12"
  }
 },
 "nbformat": 4,
 "nbformat_minor": 5
}
